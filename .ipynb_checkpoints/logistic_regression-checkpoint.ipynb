{
 "cells": [
  {
   "cell_type": "markdown",
   "metadata": {},
   "source": [
    "# Logistic Regression From Scratch\n",
    "Creating logistic regression using gradient descent from scratch as a memory exercise.\n",
    "\n",
    "Uses data from the coursera course on Deep Learning by Andrew Ng.\n",
    "\n",
    "Here we are trying to predict cat pictures from non-cat pictures.\n",
    "\n",
    "The score that's given is accuracy, but as this is just a quick learning exercise I haven't seen the class balances etc."
   ]
  },
  {
   "cell_type": "code",
   "execution_count": 2,
   "metadata": {},
   "outputs": [],
   "source": [
    "# import libraries\n",
    "import numpy as np\n",
    "import h5py\n",
    "\n",
    "# load data\n",
    "train_data = h5py.File('C:/Users/leahy/Google Drive/Freelance/own_projects/ml_from_scratch/datasets/train_catvnoncat.h5', 'r')\n",
    "test_data = h5py.File('C:/Users/leahy/Google Drive/Freelance/own_projects/ml_from_scratch/datasets/test_catvnoncat.h5', 'r')\n",
    "X_train = np.array(train_data['train_set_x'])\n",
    "y_train = np.array(train_data['train_set_y'])\n",
    "X_test = np.array(test_data['test_set_x'])\n",
    "y_test = np.array(test_data['test_set_y'])\n",
    "\n",
    "# X_train and X_test contain samples of [m, 64, 64, 3], representing image\n",
    "# hight x width x RGB channels. Reshape to be single vector of size\n",
    "# n * m. Also rescale by 255\n",
    "X_train = X_train.reshape(X_train.shape[0], -1).T / 255\n",
    "X_test = X_test.reshape(X_test.shape[0], -1).T / 255"
   ]
  },
  {
   "cell_type": "code",
   "execution_count": 3,
   "metadata": {},
   "outputs": [],
   "source": [
    "def initialise_weights(X):\n",
    "    w = np.zeros([X.shape[0], 1])\n",
    "    b = 0\n",
    "    return w, b\n",
    "\n",
    "def get_z(X, w, b):\n",
    "    z = np.dot(w.T, X) + b\n",
    "    return z\n",
    "\n",
    "def sigmoid(z):\n",
    "    a = 1 / (1 + np.exp(-z))\n",
    "    return a\n",
    "\n",
    "def get_cost(y, a):\n",
    "    m = y.shape[0]\n",
    "    cost = -np.sum((y * np.log(a)) + ((1 - y) * np.log(1 - a))) / m\n",
    "    return cost\n",
    "\n",
    "def get_gradients(X, w, a, y):\n",
    "    m = X.shape[1]\n",
    "    dz = a - y\n",
    "    dw = np.dot(X, dz.T) / m\n",
    "    db = np.sum(dz) / m\n",
    "    \n",
    "    return dw, db\n",
    "\n",
    "def update_weights(w, dw, b, db, alpha):\n",
    "    w = w - (alpha * dw)\n",
    "    b = b - (alpha * db)\n",
    "    \n",
    "    return w, b\n",
    "\n",
    "def fit(X, y, alpha, num_iterations):\n",
    "    w, b = initialise_weights(X)\n",
    "    for i in range(num_iterations):\n",
    "        z = get_z(X, w, b)\n",
    "        a = sigmoid(z)\n",
    "        cost = get_cost(y, a)\n",
    "        dw, db = get_gradients(X, w, a, y)\n",
    "        w, b = update_weights(w, dw, b, db, alpha)\n",
    "        \n",
    "        if i % 200 == 0:\n",
    "            print(f'cost after iteration {i}: {cost}')\n",
    "            \n",
    "    \n",
    "    return w, b\n",
    "\n",
    "def predict(X, w, b):\n",
    "    y_pred = np.zeros((1, X.shape[1]))\n",
    "    m = X.shape[1]\n",
    "    z = get_z(X, w, b)\n",
    "    a = sigmoid(z)\n",
    "    for i in range(m):\n",
    "        if a[0, i] >= 0.5:\n",
    "            y_pred[0, i] = 1\n",
    "        else:\n",
    "            y_pred[0, i] = 0\n",
    "    return y_pred\n",
    "        \n",
    "        \n",
    "\n",
    "def fit_predict_score(X_train, y_train, X_test, y_test, alpha, num_iterations):\n",
    "    w,  b = fit(X_train, y_train, alpha, num_iterations)\n",
    "    y_pred_train = predict(X_train, w, b)\n",
    "    y_pred_test = predict(X_test, w, b)\n",
    "    train_accuracy = 100 - (np.mean(np.abs(y_pred_train - y_train)) * 100)\n",
    "    test_accuracy = 100 - (np.mean(np.abs(y_pred_test - y_test)) * 100)\n",
    "    print(f'train accuracy: {train_accuracy}')\n",
    "    print(f'test accuracy: {test_accuracy}')\n",
    "    "
   ]
  },
  {
   "cell_type": "code",
   "execution_count": 4,
   "metadata": {},
   "outputs": [
    {
     "name": "stdout",
     "output_type": "stream",
     "text": [
      "cost after iteration 0: 0.6931471805599453\n",
      "cost after iteration 200: 0.46694904094655476\n",
      "cost after iteration 400: 0.33146328932825125\n",
      "cost after iteration 600: 0.27987958658260487\n",
      "cost after iteration 800: 0.24294068467796626\n",
      "cost after iteration 1000: 0.2148195137844964\n",
      "cost after iteration 1200: 0.19254427716706857\n",
      "cost after iteration 1400: 0.17439859438448876\n",
      "cost after iteration 1600: 0.15930451829756614\n",
      "cost after iteration 1800: 0.14654223503982342\n",
      "train accuracy: 99.04306220095694\n",
      "test accuracy: 70.0\n"
     ]
    }
   ],
   "source": [
    "fit_predict_score(X_train, y_train, X_test, y_test, .005, 2000)"
   ]
  }
 ],
 "metadata": {
  "kernelspec": {
   "display_name": "stenv",
   "language": "python",
   "name": "stenv"
  },
  "language_info": {
   "codemirror_mode": {
    "name": "ipython",
    "version": 3
   },
   "file_extension": ".py",
   "mimetype": "text/x-python",
   "name": "python",
   "nbconvert_exporter": "python",
   "pygments_lexer": "ipython3",
   "version": "3.7.4"
  }
 },
 "nbformat": 4,
 "nbformat_minor": 4
}
