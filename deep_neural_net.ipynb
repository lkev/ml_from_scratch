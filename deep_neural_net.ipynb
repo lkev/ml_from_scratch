{
 "cells": [
  {
   "cell_type": "markdown",
   "metadata": {},
   "source": [
    "# Deep Neural Net with L2 Regularization\n",
    "\n",
    "Creating a variable-layer neural network from memory as a learning exercise.\n",
    "\n",
    "Uses the cat v non-cat dataset from the [coursera course](https://www.coursera.org/specializations/deep-learning) on Deep Learning by Andrew Ng.\n",
    "\n",
    "Hyperparameters are number of layers and hidden units, lambda for L2 regularisation, learning rate alpha and number of epochs."
   ]
  },
  {
   "cell_type": "markdown",
   "metadata": {},
   "source": [
    "## Import Libraries"
   ]
  },
  {
   "cell_type": "code",
   "execution_count": 100,
   "metadata": {},
   "outputs": [],
   "source": [
    "# import libraries\n",
    "import numpy as np\n",
    "import h5py\n",
    "import matplotlib.pyplot as plt\n",
    "from sklearn.datasets import make_circles, make_moons, make_classification\n",
    "import time\n",
    "\n",
    "\n",
    "# load data\n",
    "train_data = h5py.File('C:/Users/leahy/Google Drive/Freelance/own_projects/ml_from_scratch/datasets/train_catvnoncat.h5', 'r')\n",
    "test_data = h5py.File('C:/Users/leahy/Google Drive/Freelance/own_projects/ml_from_scratch/datasets/test_catvnoncat.h5', 'r')\n",
    "X_train = np.array(train_data['train_set_x'])\n",
    "y_train = np.array(train_data['train_set_y'])\n",
    "X_test = np.array(test_data['test_set_x'])\n",
    "y_test = np.array(test_data['test_set_y'])\n",
    "\n",
    "# X_train and X_test contain samples of [m, 64, 64, 3], representing image\n",
    "# hight x width x RGB channels. Reshape to be single vector of size\n",
    "# n * m. Also rescale by 255\n",
    "X_train = X_train.reshape(X_train.shape[0], -1).T / 255\n",
    "X_test = X_test.reshape(X_test.shape[0], -1).T / 255\n",
    "\n",
    "# reshape the y's\n",
    "y_train = y_train.reshape(1, len(y_train))\n",
    "y_test = y_test.reshape(1, len(y_test))"
   ]
  },
  {
   "cell_type": "markdown",
   "metadata": {},
   "source": [
    "## Set up Functions"
   ]
  },
  {
   "cell_type": "code",
   "execution_count": 101,
   "metadata": {},
   "outputs": [],
   "source": [
    "def sigmoid(Z):\n",
    "    A = 1 / (1 + np.exp(-Z))\n",
    "    return A\n",
    "\n",
    "def initialise_params(layer_dims):\n",
    "    init_params = dict()\n",
    "    L = len(layer_dims)\n",
    "    for i in range(1, L):\n",
    "        cur_n = layer_dims[i]\n",
    "        # set W initial weights to be the square root of nodes in prev. layer\n",
    "        # ie using \"He 2012\" initialisiation\n",
    "        init_params[\"W\" + str(i)] = np.random.randn(\n",
    "            layer_dims[i], layer_dims[i - 1]) *\\\n",
    "                (np.sqrt(2 / layer_dims[i - 1]))\n",
    "        init_params[\"b\" + str(i)] = np.zeros([layer_dims[i], 1])\n",
    "    \n",
    "        assert(init_params['W' + str(i)].shape == (\n",
    "            layer_dims[i], layer_dims[i - 1]))\n",
    "        assert(init_params['b' + str(i)].shape == (layer_dims[i], 1))\n",
    "    return init_params\n",
    "\n",
    "\n",
    "def forward_prop(X, params):\n",
    "    L = len(params) // 2\n",
    "    m = X.shape [1]\n",
    "    preds = {}\n",
    "    preds['A0'] = X\n",
    "    A_prev = X\n",
    "    # For layers 1:L-1 we use relu\n",
    "    for i in range(1, L):\n",
    "        W = params['W' + str(i)]\n",
    "        b = params['b' + str(i)]\n",
    "        Z = np.dot(W, A_prev) + b\n",
    "        A = np.maximum(0, Z)\n",
    "        \n",
    "        preds['Z' + str(i)] = Z\n",
    "        preds['A' + str(i)] = A\n",
    "\n",
    "        assert(preds['Z' + str(i)].shape == (layer_dims[i], m))\n",
    "        assert(preds['A' + str(i)].shape == (layer_dims[i], m))\n",
    "        \n",
    "        A_prev = A\n",
    "\n",
    "    # For final layer use sigmoid\n",
    "    W = params['W' + str(L)]\n",
    "    b = params['b' + str(L)]\n",
    "    Z = np.dot(W, A_prev) + b\n",
    "    A = sigmoid(Z)\n",
    "    \n",
    "    preds['Z' + str(L)] = Z\n",
    "    preds['A' + str(L)] = A\n",
    "    \n",
    "    assert(preds['Z' + str(L)].shape == (layer_dims[L], m))\n",
    "    assert(preds['A' + str(L)].shape == (layer_dims[L], m))\n",
    "    \n",
    "    return preds\n",
    "\n",
    "\n",
    "def compute_cost(AL, y, params, l2_lambda=None):\n",
    "    m = y.shape[1]\n",
    "    L = len(params) // 2\n",
    "        \n",
    "    log_probs = np.multiply(y, -np.log(AL)) + np.multiply(\n",
    "        (1 - y), -np.log(1 - AL))\n",
    "    cost = np.nansum(log_probs) / m\n",
    "\n",
    "    # calc L2 reg cost\n",
    "    reg_term = 0\n",
    "    for i in range(1, L + 1):\n",
    "        W = params['W' + str(i)]\n",
    "        #  we divide by 2m simply by convention so that the derivative\n",
    "        # constant in backprop is lambda/m rather than 2 * lambda/m\n",
    "        reg_term += (l2_lambda / (2 * m)) * (np.linalg.norm(W, ord='fro'))\n",
    "\n",
    "    cost += reg_term\n",
    "\n",
    "    assert cost.shape == ()\n",
    "    \n",
    "    return cost\n",
    "\n",
    "\n",
    "def back_prop(y, preds, params, l2_lambda=None):\n",
    "    L = len(params) // 2\n",
    "    grads = {}\n",
    "    m = y.shape[1]\n",
    "\n",
    "    for i in reversed(range(1, L + 1)):\n",
    "        if i == L:\n",
    "            # for final case, dLdZL = dLdAL*dALdZL = AL - y\n",
    "            AL = preds['A' + str(L)]\n",
    "            dZ = AL - y\n",
    "        else:\n",
    "            # for other cases\n",
    "            # _plus represent values at i + 1\n",
    "            dZ_plus = grads['dZ' + str(i + 1)]\n",
    "            W_plus = params['W' + str(i + 1)]\n",
    "            Z = preds['Z' + str(i)]\n",
    "            # gradient of relu fn\n",
    "            relu_grad = np.zeros(Z.shape)\n",
    "            relu_grad[Z > 0] = 1\n",
    "            dZ = np.dot(W_plus.T, dZ_plus) * relu_grad\n",
    "        \n",
    "        grads['dZ' + str(i)] = dZ\n",
    "        \n",
    "        A_prev = preds['A' + str(i - 1)]\n",
    "        \n",
    "        # including L2 regularization!\n",
    "        W = params['W' + str(i)]\n",
    "        grads['dW' + str(i)] = (np.dot(dZ, A_prev.T) + (l2_lambda * W)) / m\n",
    "        grads['db' + str(i)] = np.sum(dZ, axis=1, keepdims=True) / m\n",
    "        \n",
    "    return grads\n",
    "\n",
    "\n",
    "def update_params(grads, params, alpha):\n",
    "    L = len(params) // 2\n",
    "    for i in range(1, L + 1):\n",
    "        params['W' + str(i)] -= (alpha * grads['dW' + str(i)])\n",
    "        params['b' + str(i)] -= (alpha * grads['db' + str(i)])\n",
    "        \n",
    "    return params\n",
    "\n",
    "\n",
    "def fit(X, y, layer_dims, num_iterations, alpha, l2_lambda=None,\n",
    "        cost_interval=200):\n",
    "    params = initialise_params(layer_dims)\n",
    "    L = len(params) // 2\n",
    "    costs = []\n",
    "    for i in range(num_iterations):\n",
    "        preds = forward_prop(X, params)\n",
    "        J = compute_cost(preds['A' + str(L)], y, params, l2_lambda)\n",
    "        if i % cost_interval == 0:\n",
    "            print(f'cost after iter {i}: {J}')\n",
    "        if i % 100 == 0:\n",
    "            costs += [J]\n",
    "        grads = back_prop(y, preds, params, l2_lambda)\n",
    "        params = update_params(grads, params, alpha)\n",
    "        \n",
    "    plt.plot(costs)\n",
    "    plt.show()\n",
    "    return params, costs\n",
    "\n",
    "def predict(X, params):\n",
    "    L = len(params) // 2\n",
    "    preds = forward_prop(X, params)\n",
    "    y_pred = preds['A' + str(L)]\n",
    "    y_pred[y_pred > 0.5] = 1\n",
    "    y_pred[y_pred <= 0.5] = 0\n",
    "    return y_pred\n",
    "\n",
    "\n",
    "def accuracy_score(y_test, y_pred):\n",
    "    m = y_test.shape[1]\n",
    "    score = np.sum(y_test == y_pred) / m\n",
    "    print(f'accuracy: {score}')\n",
    "    return score\n",
    "        "
   ]
  },
  {
   "cell_type": "markdown",
   "metadata": {},
   "source": [
    "## Fit, Predict, Score\n",
    "\n",
    "Let's see effects of regularisation"
   ]
  },
  {
   "cell_type": "code",
   "execution_count": 102,
   "metadata": {},
   "outputs": [
    {
     "name": "stdout",
     "output_type": "stream",
     "text": [
      "lambda=0\n",
      "cost after iter 0: 0.7095350929383001\n",
      "cost after iter 200: 0.5531215775179099\n",
      "cost after iter 400: 0.20616499168258476\n",
      "cost after iter 600: 0.3972160327329145\n",
      "cost after iter 800: 0.04453866422900078\n",
      "cost after iter 1000: 0.019518166851579973\n",
      "cost after iter 1200: 0.011426204115048692\n",
      "cost after iter 1400: 0.00766872922979565\n",
      "cost after iter 1600: 0.005609708390514454\n",
      "cost after iter 1800: 0.0043353010112505185\n",
      "cost after iter 2000: 0.003490820023837182\n",
      "cost after iter 2200: 0.002898564319892692\n"
     ]
    },
    {
     "data": {
      "image/png": "[encoded data removed]",
      "text/plain": [
       "<Figure size 432x288 with 1 Axes>"
      ]
     },
     "metadata": {
      "needs_background": "light"
     },
     "output_type": "display_data"
    },
    {
     "name": "stdout",
     "output_type": "stream",
     "text": [
      "Train set:\n",
      "accuracy: 1.0\n",
      "Test Set:\n",
      "accuracy: 0.72\n",
      "took 42.47967529296875 seconds\n",
      "\n",
      "\n",
      "lambda=0.001\n",
      "cost after iter 0: 0.7167000400948975\n",
      "cost after iter 200: 0.542840414784643\n",
      "cost after iter 400: 0.4283448245457164\n",
      "cost after iter 600: 0.3103674353245235\n",
      "cost after iter 800: 0.12612176897562521\n",
      "cost after iter 1000: 0.049329710445128586\n",
      "cost after iter 1200: 0.02068344396949862\n",
      "cost after iter 1400: 0.01204235353584038\n",
      "cost after iter 1600: 0.0080872037882747\n",
      "cost after iter 1800: 0.005902712843186399\n",
      "cost after iter 2000: 0.004562085184142841\n",
      "cost after iter 2200: 0.0036763618888465627\n"
     ]
    },
    {
     "data": {
      "image/png": "[encoded data removed]",
      "text/plain": [
       "<Figure size 432x288 with 1 Axes>"
      ]
     },
     "metadata": {
      "needs_background": "light"
     },
     "output_type": "display_data"
    },
    {
     "name": "stdout",
     "output_type": "stream",
     "text": [
      "Train set:\n",
      "accuracy: 1.0\n",
      "Test Set:\n",
      "accuracy: 0.7\n",
      "took 36.07852053642273 seconds\n",
      "\n",
      "\n",
      "lambda=0.01\n",
      "cost after iter 0: 0.6791798599988482\n",
      "cost after iter 200: 0.4294197808564114\n",
      "cost after iter 400: 0.2686086231309208\n",
      "cost after iter 600: 0.09628875219808145\n",
      "cost after iter 800: 0.03728987608693348\n",
      "cost after iter 1000: 0.0182768342707358\n",
      "cost after iter 1200: 0.011562224275459934\n",
      "cost after iter 1400: 0.008213025327934977\n",
      "cost after iter 1600: 0.006259425816006024\n",
      "cost after iter 1800: 0.005010924886780197\n",
      "cost after iter 2000: 0.004155486964256444\n",
      "cost after iter 2200: 0.0035424934716190653\n"
     ]
    },
    {
     "data": {
      "image/png": "[encoded data removed]",
      "text/plain": [
       "<Figure size 432x288 with 1 Axes>"
      ]
     },
     "metadata": {
      "needs_background": "light"
     },
     "output_type": "display_data"
    },
    {
     "name": "stdout",
     "output_type": "stream",
     "text": [
      "Train set:\n",
      "accuracy: 1.0\n",
      "Test Set:\n",
      "accuracy: 0.68\n",
      "took 49.13385081291199 seconds\n",
      "\n",
      "\n"
     ]
    }
   ],
   "source": [
    "layer_dims = [X_train.shape[0], 20, 7, 5, y_train.shape[0]]\n",
    "num_iterations = 2400\n",
    "alpha = .0075\n",
    "l2_lambdas = [0, 0.001, 0.01]\n",
    "# interval in the iterations for which the costs will be stored\n",
    "cost_interval = 200\n",
    "\n",
    "for l2_lambda in l2_lambdas:\n",
    "    start = time.time()\n",
    "    \n",
    "    print(f'lambda={l2_lambda}')\n",
    "    params, costs = fit(X_train, y_train, layer_dims, num_iterations, alpha,\n",
    "                        l2_lambda, cost_interval)\n",
    "    y_pred_train = predict(X_train, params)\n",
    "    y_pred_test = predict(X_test, params)\n",
    "\n",
    "    print('Train set:')\n",
    "    accuracy_score(y_train, y_pred_train)\n",
    "\n",
    "    print('Test Set:')\n",
    "    accuracy_score(y_test, y_pred_test)\n",
    "    \n",
    "    end = time.time()\n",
    "    print(f'took {end - start} seconds\\n\\n')"
   ]
  },
  {
   "cell_type": "markdown",
   "metadata": {},
   "source": [
    "## Performance on generated dataset"
   ]
  },
  {
   "cell_type": "code",
   "execution_count": 121,
   "metadata": {},
   "outputs": [],
   "source": [
    "m = 2000\n",
    "# data = make_classification(n_features=2, n_redundant=0, n_informative=2,\n",
    "#                            n_clusters_per_class=2, n_samples=m)\n",
    "# data = make_circles(n_samples=m, factor=.5, noise=.03)\n",
    "\n",
    "data = make_moons(n_samples=m, noise=.25)\n",
    "\n",
    "\n",
    "X, y = data[0].T, data[1].reshape(1, -1)\n",
    "\n",
    "idx = np.arange(X.shape[1])\n",
    "np.random.shuffle(idx)\n",
    "\n",
    "X_train = X[:, idx[0:int(m * .8)]]\n",
    "X_test = X[:, idx[int(m * .8):]]\n",
    "y_train = y[:, idx[0:int(m * .8)]]\n",
    "y_test = y[:, idx[int(m * .8):]]"
   ]
  },
  {
   "cell_type": "code",
   "execution_count": 123,
   "metadata": {},
   "outputs": [
    {
     "name": "stdout",
     "output_type": "stream",
     "text": [
      "lambda=0\n",
      "cost after iter 0: 0.7322637045312831\n"
     ]
    },
    {
     "data": {
      "image/png": "[encoded data removed]",
      "text/plain": [
       "<Figure size 432x288 with 1 Axes>"
      ]
     },
     "metadata": {
      "needs_background": "light"
     },
     "output_type": "display_data"
    },
    {
     "name": "stdout",
     "output_type": "stream",
     "text": [
      "Train set:\n",
      "accuracy: 0.946875\n",
      "Test Set:\n",
      "accuracy: 0.94\n",
      "took 4.786148548126221 seconds\n",
      "\n",
      "\n",
      "lambda=0.001\n",
      "cost after iter 0: 0.6313815503597857\n"
     ]
    },
    {
     "data": {
      "image/png": "[encoded data removed]",
      "text/plain": [
       "<Figure size 432x288 with 1 Axes>"
      ]
     },
     "metadata": {
      "needs_background": "light"
     },
     "output_type": "display_data"
    },
    {
     "name": "stdout",
     "output_type": "stream",
     "text": [
      "Train set:\n",
      "accuracy: 0.944375\n",
      "Test Set:\n",
      "accuracy: 0.9375\n",
      "took 5.682788610458374 seconds\n",
      "\n",
      "\n",
      "lambda=0.01\n",
      "cost after iter 0: 1.0056345259838433\n"
     ]
    },
    {
     "data": {
      "image/png": "[encoded data removed]",
      "text/plain": [
       "<Figure size 432x288 with 1 Axes>"
      ]
     },
     "metadata": {
      "needs_background": "light"
     },
     "output_type": "display_data"
    },
    {
     "name": "stdout",
     "output_type": "stream",
     "text": [
      "Train set:\n",
      "accuracy: 0.946875\n",
      "Test Set:\n",
      "accuracy: 0.945\n",
      "took 6.017758369445801 seconds\n",
      "\n",
      "\n",
      "lambda=0.1\n",
      "cost after iter 0: 0.8538221970264084\n"
     ]
    },
    {
     "data": {
      "image/png": "[encoded data removed]",
      "text/plain": [
       "<Figure size 432x288 with 1 Axes>"
      ]
     },
     "metadata": {
      "needs_background": "light"
     },
     "output_type": "display_data"
    },
    {
     "name": "stdout",
     "output_type": "stream",
     "text": [
      "Train set:\n",
      "accuracy: 0.94875\n",
      "Test Set:\n",
      "accuracy: 0.9375\n",
      "took 6.237306356430054 seconds\n",
      "\n",
      "\n"
     ]
    }
   ],
   "source": [
    "layer_dims = [X_train.shape[0], 20, 7, 5, y_train.shape[0]]\n",
    "num_iterations = 2400\n",
    "alpha = .075\n",
    "l2_lambdas = [0, 0.001, 0.01, .1]\n",
    "# interval in the iterations for which the costs will be stored\n",
    "cost_interval = 20000000\n",
    "np.random.seed(1)\n",
    "for l2_lambda in l2_lambdas:\n",
    "    start = time.time()\n",
    "    \n",
    "    print(f'lambda={l2_lambda}')\n",
    "    params, costs = fit(X_train, y_train, layer_dims, num_iterations, alpha,\n",
    "                        l2_lambda, cost_interval)\n",
    "    y_pred_train = predict(X_train, params)\n",
    "    y_pred_test = predict(X_test, params)\n",
    "\n",
    "    print('Train set:')\n",
    "    accuracy_score(y_train, y_pred_train)\n",
    "\n",
    "    print('Test Set:')\n",
    "    accuracy_score(y_test, y_pred_test)\n",
    "    \n",
    "    end = time.time()\n",
    "    print(f'took {end - start} seconds\\n\\n')"
   ]
  },
  {
   "cell_type": "code",
   "execution_count": 131,
   "metadata": {},
   "outputs": [
    {
     "data": {
      "text/plain": [
       "<matplotlib.collections.PathCollection at 0x1f928b05688>"
      ]
     },
     "execution_count": 131,
     "metadata": {},
     "output_type": "execute_result"
    },
    {
     "data": {
      "image/png": "[encoded data removed]",
      "text/plain": [
       "<Figure size 432x288 with 1 Axes>"
      ]
     },
     "metadata": {
      "needs_background": "light"
     },
     "output_type": "display_data"
    }
   ],
   "source": [
    "# Set min and max values for meshgrid\n",
    "x_min, x_max = X[0, :].min() - 1, X[0, :].max() + 1\n",
    "y_min, y_max = X[1, :].min() - 1, X[1, :].max() + 1\n",
    "\n",
    "# Generate a grid of points with distance h between them\n",
    "h = 0.01\n",
    "xx, yy = np.meshgrid(np.arange(x_min, x_max, h), np.arange(y_min, y_max, h))\n",
    "\n",
    "# Predict the function value for the whole grid using previous params\n",
    "L = len(params) // 2\n",
    "X_mesh = np.c_[xx.ravel(), yy.ravel()].T\n",
    "Z = forward_prop(X_mesh, params)['A' + str(L)]\n",
    "Z = Z.reshape(xx.shape)\n",
    "\n",
    "# Plot the contour and training examples\n",
    "plt.contourf(xx, yy, Z, cmap=plt.cm.coolwarm)\n",
    "plt.ylabel('x2')\n",
    "plt.xlabel('x1')\n",
    "plt.scatter(X_test[0, :], X_test[1, :], c=np.squeeze(y_test))"
   ]
  }
 ],
 "metadata": {
  "kernelspec": {
   "display_name": "stenv",
   "language": "python",
   "name": "stenv"
  },
  "language_info": {
   "codemirror_mode": {
    "name": "ipython",
    "version": 3
   },
   "file_extension": ".py",
   "mimetype": "text/x-python",
   "name": "python",
   "nbconvert_exporter": "python",
   "pygments_lexer": "ipython3",
   "version": "3.7.4"
  }
 },
 "nbformat": 4,
 "nbformat_minor": 4
}
