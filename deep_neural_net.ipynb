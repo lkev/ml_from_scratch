{
 "cells": [
  {
   "cell_type": "markdown",
   "metadata": {},
   "source": [
    "# Deep Neural Net\n",
    "\n",
    "Creating a variable-layer neural network from memory as a learning exercise.\n",
    "\n",
    "Uses the cat v non-cat dataset from the [coursera course](https://www.coursera.org/specializations/deep-learning) on Deep Learning by Andrew Ng."
   ]
  },
  {
   "cell_type": "markdown",
   "metadata": {},
   "source": [
    "## Import Libraries"
   ]
  },
  {
   "cell_type": "code",
   "execution_count": 1,
   "metadata": {},
   "outputs": [],
   "source": [
    "# import libraries\n",
    "import numpy as np\n",
    "import h5py\n",
    "import matplotlib.pyplot as plt\n",
    "from sklearn.datasets import make_circles, make_moons, make_classification\n",
    "\n",
    "\n",
    "# load data\n",
    "train_data = h5py.File('C:/Users/leahy/Google Drive/Freelance/own_projects/ml_from_scratch/datasets/train_catvnoncat.h5', 'r')\n",
    "test_data = h5py.File('C:/Users/leahy/Google Drive/Freelance/own_projects/ml_from_scratch/datasets/test_catvnoncat.h5', 'r')\n",
    "X_train = np.array(train_data['train_set_x'])\n",
    "y_train = np.array(train_data['train_set_y'])\n",
    "X_test = np.array(test_data['test_set_x'])\n",
    "y_test = np.array(test_data['test_set_y'])\n",
    "\n",
    "# X_train and X_test contain samples of [m, 64, 64, 3], representing image\n",
    "# hight x width x RGB channels. Reshape to be single vector of size\n",
    "# n * m. Also rescale by 255\n",
    "X_train = X_train.reshape(X_train.shape[0], -1).T / 255\n",
    "X_test = X_test.reshape(X_test.shape[0], -1).T / 255\n",
    "\n",
    "# reshape the y's\n",
    "y_train = y_train.reshape(1, len(y_train))\n",
    "y_test = y_test.reshape(1, len(y_test))"
   ]
  },
  {
   "cell_type": "markdown",
   "metadata": {},
   "source": [
    "## Set up Functions"
   ]
  },
  {
   "cell_type": "code",
   "execution_count": 10,
   "metadata": {},
   "outputs": [],
   "source": [
    "def sigmoid(Z):\n",
    "    A = 1 / (1 + np.exp(-Z))\n",
    "    return A\n",
    "\n",
    "\n",
    "def initialise_params(layer_dims):\n",
    "    init_params = dict()\n",
    "    L = len(layer_dims)\n",
    "    for i in range(1, L):\n",
    "        cur_n = layer_dims[i]\n",
    "        # set W initial weights to be the square root of nodes in prev. layer\n",
    "        init_params[\"W\" + str(i)] = np.random.randn(\n",
    "            layer_dims[i], layer_dims[i - 1]) / np.sqrt(layer_dims[i - 1])\n",
    "        init_params[\"b\" + str(i)] = np.zeros([layer_dims[i], 1])\n",
    "    \n",
    "        assert(init_params['W' + str(i)].shape == (\n",
    "            layer_dims[i], layer_dims[i - 1]))\n",
    "        assert(init_params['b' + str(i)].shape == (layer_dims[i], 1))\n",
    "    return init_params\n",
    "\n",
    "\n",
    "def forward_prop(X, params):\n",
    "    L = len(params) // 2\n",
    "    m = X.shape [1]\n",
    "    preds = {}\n",
    "    preds['A0'] = X\n",
    "    A_prev = X\n",
    "    # For layers 1:L-1 we use relu\n",
    "    for i in range(1, L):\n",
    "        W = params['W' + str(i)]\n",
    "        b = params['b' + str(i)]\n",
    "        Z = np.dot(W, A_prev) + b\n",
    "        A = np.maximum(0, Z)\n",
    "        \n",
    "        preds['Z' + str(i)] = Z\n",
    "        preds['A' + str(i)] = A\n",
    "\n",
    "        assert(preds['Z' + str(i)].shape == (layer_dims[i], m))\n",
    "        assert(preds['A' + str(i)].shape == (layer_dims[i], m))\n",
    "        \n",
    "        A_prev = A\n",
    "\n",
    "    # For final layer use sigmoid\n",
    "    W = params['W' + str(L)]\n",
    "    b = params['b' + str(L)]\n",
    "    Z = np.dot(W, A_prev) + b\n",
    "    A = sigmoid(Z)\n",
    "    \n",
    "    preds['Z' + str(L)] = Z\n",
    "    preds['A' + str(L)] = A\n",
    "    \n",
    "    assert(preds['Z' + str(L)].shape == (layer_dims[L], m))\n",
    "    assert(preds['A' + str(L)].shape == (layer_dims[L], m))\n",
    "    \n",
    "    return preds\n",
    "\n",
    "\n",
    "def compute_cost(AL, y):\n",
    "    m = y.shape[1]\n",
    "    cost = -np.sum(\n",
    "        np.multiply(y, np.log(AL)) + np.multiply((1 - y), np.log(1- AL))) / m\n",
    "\n",
    "    assert cost.shape == ()\n",
    "    \n",
    "    return cost\n",
    "\n",
    "\n",
    "def back_prop(y, preds, params):\n",
    "    L = len(params) // 2\n",
    "    grads = {}\n",
    "    m = y.shape[1]\n",
    "\n",
    "    for i in reversed(range(1, L + 1)):\n",
    "        if i == L:\n",
    "            # for final case, dLdZL = dLdAL*dALdZL = AL - y\n",
    "            AL = preds['A' + str(L)]\n",
    "            dZ = AL - y\n",
    "            grads['dZ' + str(L)] = dZ\n",
    "        else:\n",
    "            # these represent values at i + 1\n",
    "            dZ_plus = grads['dZ' + str(i + 1)]\n",
    "            W_plus = params['W' + str(i + 1)]\n",
    "            Z = preds['Z' + str(i)]\n",
    "            # gradient of relu fn\n",
    "            relu_grad = np.zeros(Z.shape)\n",
    "            relu_grad[Z > 0] = 1\n",
    "            dZ = np.dot(W_plus.T, dZ_plus) * relu_grad\n",
    "            grads['dZ' + str(i)] = dZ\n",
    "            \n",
    "        A_prev = preds['A' + str(i - 1)]\n",
    "        grads['dW' + str(i)] = np.dot(dZ, A_prev.T) / m\n",
    "        grads['db' + str(i)] = np.sum(dZ, axis=1, keepdims=True) / m\n",
    "        \n",
    "    return grads\n",
    "\n",
    "\n",
    "def update_params(grads, params, alpha):\n",
    "    L = len(params) // 2\n",
    "    for i in range(1, L + 1):\n",
    "        params['W' + str(i)] -= (alpha * grads['dW' + str(i)])\n",
    "        params['b' + str(i)] -= (alpha * grads['db' + str(i)])\n",
    "        \n",
    "    return params\n",
    "\n",
    "\n",
    "def fit(X, y, layer_dims, num_iterations, alpha):\n",
    "    params = initialise_params(layer_dims)\n",
    "    L = len(params) // 2\n",
    "    for i in range(num_iterations):\n",
    "        preds = forward_prop(X, params)\n",
    "        J = compute_cost(preds['A' + str(L)], y)\n",
    "        if i % 200 == 0:\n",
    "            print(f'cost after iter {i}: {J}')\n",
    "        grads = back_prop(y, preds, params)\n",
    "        params = update_params(grads, params, alpha)\n",
    "    return params\n",
    "\n",
    "def predict(X, params):\n",
    "    L = len(params) // 2\n",
    "    preds = forward_prop(X, params)\n",
    "    y_pred = preds['A' + str(L)]\n",
    "    y_pred[y_pred > 0.5] = 1\n",
    "    y_pred[y_pred <= 0.5] = 0\n",
    "    return y_pred\n",
    "\n",
    "\n",
    "def accuracy_score(y_test, y_pred):\n",
    "    m = y_test.shape[1]\n",
    "    score = np.sum(y_test == y_pred) / m\n",
    "    print(f'accuracy: {score}')\n",
    "    return score\n",
    "        "
   ]
  },
  {
   "cell_type": "markdown",
   "metadata": {},
   "source": [
    "## Fit, Predict, Score"
   ]
  },
  {
   "cell_type": "code",
   "execution_count": 11,
   "metadata": {},
   "outputs": [
    {
     "name": "stdout",
     "output_type": "stream",
     "text": [
      "cost after iter 0: 0.7126132015464299\n",
      "cost after iter 200: 0.5171138722809682\n",
      "cost after iter 400: 0.3723447128870244\n",
      "cost after iter 600: 0.26953657186668856\n",
      "cost after iter 800: 0.08082897671418797\n",
      "cost after iter 1000: 0.030670703898062503\n",
      "cost after iter 1200: 0.016500565434296684\n",
      "cost after iter 1400: 0.010434043911794274\n",
      "cost after iter 1600: 0.007305974024531241\n",
      "cost after iter 1800: 0.005462649489650543\n",
      "cost after iter 2000: 0.004290822854963263\n",
      "cost after iter 2200: 0.0034920385029479804\n",
      "cost after iter 2400: 0.0029154881360515562\n",
      "accuracy: 0.74\n"
     ]
    },
    {
     "data": {
      "text/plain": [
       "0.74"
      ]
     },
     "execution_count": 11,
     "metadata": {},
     "output_type": "execute_result"
    }
   ],
   "source": [
    "layer_dims = [X_train.shape[0], 20, 7, 5, y_train.shape[0]]\n",
    "\n",
    "# params = initialise_params(layer_dims)\n",
    "params = fit(X_train, y_train, layer_dims, 2500, .0075)\n",
    "y_pred_train = predict(X_train, params)\n",
    "y_pred_test = predict(X_test, params)\n",
    "\n",
    "accuracy_score(y_test, y_pred_test)"
   ]
  },
  {
   "cell_type": "markdown",
   "metadata": {},
   "source": [
    "## Performance on generated dataset"
   ]
  },
  {
   "cell_type": "code",
   "execution_count": 52,
   "metadata": {},
   "outputs": [],
   "source": [
    "m = 2000\n",
    "# data = make_classification(n_features=2, n_redundant=0, n_informative=2,\n",
    "#                            n_clusters_per_class=2, n_samples=m)\n",
    "# data = make_circles(n_samples=m, factor=.5, noise=.03)\n",
    "\n",
    "data = make_moons(n_samples=m, noise=.05)\n",
    "\n",
    "\n",
    "X, y = data[0].T, data[1].reshape(1, -1)\n",
    "\n",
    "idx = np.arange(X.shape[1])\n",
    "np.random.shuffle(idx)\n",
    "\n",
    "X_train = X[:, idx[0:int(m * .8)]]\n",
    "X_test = X[:, idx[int(m * .8):]]\n",
    "y_train = y[:, idx[0:int(m * .8)]]\n",
    "y_test = y[:, idx[int(m * .8):]]"
   ]
  },
  {
   "cell_type": "code",
   "execution_count": 58,
   "metadata": {},
   "outputs": [
    {
     "name": "stdout",
     "output_type": "stream",
     "text": [
      "cost after iter 0: 0.6849846584661894\n",
      "cost after iter 200: 0.6693721253247688\n",
      "cost after iter 400: 0.6383581536293679\n",
      "cost after iter 600: 0.5757956822438479\n",
      "cost after iter 800: 0.48527631493446494\n",
      "cost after iter 1000: 0.40143515444849087\n",
      "cost after iter 1200: 0.33889295325086005\n",
      "cost after iter 1400: 0.2893629522250246\n",
      "cost after iter 1600: 0.254313171903496\n",
      "cost after iter 1800: 0.23097998614110204\n",
      "cost after iter 2000: 0.21481352909977544\n",
      "cost after iter 2200: 0.20281759536700492\n",
      "cost after iter 2400: 0.19314272427372278\n",
      "accuracy: 0.8875\n"
     ]
    },
    {
     "data": {
      "text/plain": [
       "0.8875"
      ]
     },
     "execution_count": 58,
     "metadata": {},
     "output_type": "execute_result"
    }
   ],
   "source": [
    "layer_dims = [X_train.shape[0], 20, 5, 7, y_train.shape[0]]\n",
    "\n",
    "params = fit(X_train, y_train, layer_dims, 2500, .0075)\n",
    "y_pred_test = predict(X_test, params)\n",
    "accuracy_score(y_test, y_pred_test)"
   ]
  },
  {
   "cell_type": "code",
   "execution_count": 59,
   "metadata": {},
   "outputs": [
    {
     "data": {
      "text/plain": [
       "<matplotlib.collections.PathCollection at 0x15b8062e488>"
      ]
     },
     "execution_count": 59,
     "metadata": {},
     "output_type": "execute_result"
    },
    {
     "data": {
      "image/png": "[encoded data removed]",
      "text/plain": [
       "<Figure size 432x288 with 1 Axes>"
      ]
     },
     "metadata": {
      "needs_background": "light"
     },
     "output_type": "display_data"
    }
   ],
   "source": [
    "# Set min and max values for meshgrid\n",
    "x_min, x_max = X[0, :].min() - 1, X[0, :].max() + 1\n",
    "y_min, y_max = X[1, :].min() - 1, X[1, :].max() + 1\n",
    "\n",
    "# Generate a grid of points with distance h between them\n",
    "h = 0.01\n",
    "xx, yy = np.meshgrid(np.arange(x_min, x_max, h), np.arange(y_min, y_max, h))\n",
    "\n",
    "# Predict the function value for the whole grid using previous params\n",
    "L = len(params) // 2\n",
    "X_mesh = np.c_[xx.ravel(), yy.ravel()].T\n",
    "Z = forward_prop(X_mesh, params)['A' + str(L)]\n",
    "Z = Z.reshape(xx.shape)\n",
    "\n",
    "# Plot the contour and training examples\n",
    "plt.contourf(xx, yy, Z, cmap=plt.cm.coolwarm)\n",
    "plt.ylabel('x2')\n",
    "plt.xlabel('x1')\n",
    "plt.scatter(X_test[0, :], X_test[1, :], c=np.squeeze(y_test), cmap=plt.cm.coolwarm)"
   ]
  }
 ],
 "metadata": {
  "kernelspec": {
   "display_name": "stenv",
   "language": "python",
   "name": "stenv"
  },
  "language_info": {
   "codemirror_mode": {
    "name": "ipython",
    "version": 3
   },
   "file_extension": ".py",
   "mimetype": "text/x-python",
   "name": "python",
   "nbconvert_exporter": "python",
   "pygments_lexer": "ipython3",
   "version": "3.7.4"
  }
 },
 "nbformat": 4,
 "nbformat_minor": 4
}
