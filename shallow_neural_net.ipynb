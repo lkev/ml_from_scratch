{
 "cells": [
  {
   "cell_type": "markdown",
   "metadata": {},
   "source": [
    "# Shallow Neural Network\n",
    "\n",
    "Creating a shallow neural network from memory as a learning exercise.\n",
    "\n",
    "The network will be 1 hidden layer with 4 neurons, and the output layer will be a single neuron."
   ]
  },
  {
   "cell_type": "markdown",
   "metadata": {},
   "source": [
    "## Import Libraries"
   ]
  },
  {
   "cell_type": "code",
   "execution_count": 38,
   "metadata": {},
   "outputs": [],
   "source": [
    "import numpy as np\n",
    "import matplotlib.pyplot as plt\n",
    "from sklearn.datasets import make_circles, make_moons, make_classification\n",
    "from sklearn.svm import SVC\n",
    "from sklearn.model_selection import train_test_split\n",
    "from sklearn.metrics import accuracy_score\n",
    "\n",
    "m = 600\n",
    "# data = make_circles(n_samples=m, factor=.5, noise=.03)\n",
    "# data = make_moons(n_samples=m, noise=.2)\n",
    "# data = make_classification(n_features=2, n_redundant=0, n_informative=2,\n",
    "#                            n_clusters_per_class=1, n_samples=m)\n",
    "data = make_classification(n_features=2, n_redundant=0, n_informative=2,\n",
    "                           n_clusters_per_class=2, n_samples=m)\n",
    "\n",
    "X, y = data[0].T, data[1].reshape(1, -1)\n",
    "\n",
    "idx = np.arange(X.shape[1])\n",
    "np.random.shuffle(idx)\n",
    "\n",
    "X_train = X[:, idx[0:400]]\n",
    "X_test = X[:, idx[400:]]\n",
    "y_train = y[:, idx[0:400]]\n",
    "y_test = y[:, idx[400:]]"
   ]
  },
  {
   "cell_type": "markdown",
   "metadata": {},
   "source": [
    "## Set up Functions"
   ]
  },
  {
   "cell_type": "code",
   "execution_count": 40,
   "metadata": {},
   "outputs": [],
   "source": [
    "# 4 neurons in hidden layer\n",
    "n_h = 4\n",
    "\n",
    "def sigmoid(X):\n",
    "    z = 1 / (1 + np.exp(-X))\n",
    "    return z\n",
    "\n",
    "def initialise_weights(X, y, n_h):\n",
    "    n_x = X.shape[0]\n",
    "    n_y = y.shape[0]\n",
    "    # make this small so that sigmoid has an actual slope at the output\n",
    "    W1 = np.random.randn(n_h, n_x) * .01\n",
    "    b1 = np.zeros([n_h, 1])\n",
    "    W2 = np.random.randn(n_y, n_h) * .01\n",
    "    b2 = np.zeros([n_y, 1])\n",
    "    \n",
    "    init_params = dict()\n",
    "    init_params['W1'] = W1\n",
    "    init_params['b1'] = b1\n",
    "    init_params['W2'] = W2\n",
    "    init_params['b2'] = b2    \n",
    "    \n",
    "    return init_params\n",
    "\n",
    "def forward_prop(X, params):\n",
    "    m = X.shape[1]\n",
    "    \n",
    "    W1 = params['W1']\n",
    "    b1 = params['b1']\n",
    "    W2 = params['W2']\n",
    "    b2 = params['b2']\n",
    "\n",
    "    Z1 = np.dot(W1, X) + b1\n",
    "    A1 = np.tanh(Z1)\n",
    "    Z2 = np.dot(W2, A1) + b2\n",
    "    A2 = sigmoid(Z2)\n",
    "    \n",
    "    preds = dict()\n",
    "    preds['Z1'] = Z1\n",
    "    preds['A1'] = A1\n",
    "    preds['Z2'] = Z2\n",
    "    preds['A2'] = A2\n",
    "    \n",
    "    return preds\n",
    "    \n",
    "def compute_cost(A2, y):\n",
    "    m = y.shape[1]\n",
    "    J = - np.sum(\n",
    "        np.multiply(y, np.log(A2)) + np.multiply(1 - y, np.log(1 - A2))) / m\n",
    "    return J\n",
    "\n",
    "def backward_prop(X, y, params, preds):\n",
    "    m = X.shape[1]\n",
    "\n",
    "    Z1 = preds['Z1']\n",
    "    A1 = preds['A1']\n",
    "    Z2 = preds['Z2']\n",
    "    A2 = preds['A2']\n",
    "    \n",
    "    W2 = params['W2']\n",
    "    \n",
    "    # dL/dZ2 = A - y and g'(W1) = 1 - np.power(A1, 2)\n",
    "    dZ2 = A2 - y\n",
    "    dW2 = np.dot(dZ2, A1.T) / m\n",
    "    db2 = np.sum(dZ2, axis=1, keepdims=True) / m\n",
    "    dZ1 = np.dot(W2.T, dZ2) * (1 - np.power(A1, 2))\n",
    "    dW1 = np.dot(dZ1, X.T) / m\n",
    "    db1 = np.sum(dZ1, axis=1, keepdims=True) / m\n",
    "    \n",
    "    grads = dict()\n",
    "    grads['dW2'] = dW2\n",
    "    grads['db2'] = db2\n",
    "    grads['dW1'] = dW1\n",
    "    grads['db1'] = db1\n",
    "    \n",
    "    return grads\n",
    "    \n",
    "def update(X, y, grads, params, alpha):\n",
    "    dW2 = grads['dW2']\n",
    "    db2 = grads['db2']\n",
    "    dW1 = grads['dW1']\n",
    "    db1 = grads['db1']\n",
    "    \n",
    "    W1 = params['W1']\n",
    "    b1 = params['b1']\n",
    "    W2 = params['W2']\n",
    "    b2 = params['b2']\n",
    "    \n",
    "    W1 = W1 - (alpha * dW1)\n",
    "    W2 = W2 - (alpha * dW2)\n",
    "    b1 = b1 - (alpha * b1)\n",
    "    b2 = b2 - (alpha * b2)\n",
    "    \n",
    "    params['W1'] = W1\n",
    "    params['W2'] = W2\n",
    "    params['b1'] = b1\n",
    "    params['b2'] = b2\n",
    "    \n",
    "    return params\n",
    "    \n",
    "def fit(X, y, n_h, num_iterations, alpha):\n",
    "    params = initialise_weights(X, y, n_h)\n",
    "    for i in range(num_iterations):\n",
    "        preds = forward_prop(X, params)\n",
    "        J = compute_cost(preds['A2'], y)\n",
    "        if i % 1000 == 0:\n",
    "            print(f'cost after iter {i}: {J}')\n",
    "        grads = backward_prop(X, y, params, preds)\n",
    "        params = update(X, y, grads, params, alpha)\n",
    "    return params, preds\n",
    "\n",
    "def predict(X, params):\n",
    "    preds = forward_prop(X, params)\n",
    "    y_pred = preds['A2']\n",
    "    y_pred[y_pred > 0.5] = 1\n",
    "    y_pred[y_pred <= 0.5] = 0\n",
    "    return y_pred\n",
    "    "
   ]
  },
  {
   "cell_type": "markdown",
   "metadata": {},
   "source": [
    "## Fit, Predict, Score"
   ]
  },
  {
   "cell_type": "code",
   "execution_count": 41,
   "metadata": {},
   "outputs": [
    {
     "name": "stdout",
     "output_type": "stream",
     "text": [
      "cost after iter 0: 0.6932650655857557\n",
      "cost after iter 1000: 0.3111831168136374\n",
      "cost after iter 2000: 0.3052009586004211\n",
      "cost after iter 3000: 0.3028706241541369\n",
      "cost after iter 4000: 0.30175559244175193\n",
      "cost after iter 5000: 0.3010837531720564\n",
      "cost after iter 6000: 0.30062543772129335\n",
      "cost after iter 7000: 0.3002861814437631\n",
      "cost after iter 8000: 0.3000199276478595\n",
      "cost after iter 9000: 0.2998015838909202\n",
      "accuracy:  0.905\n"
     ]
    }
   ],
   "source": [
    "params, preds = fit(X_train, y_train, n_h, 10000, 1.2)\n",
    "y_pred = predict(X_test, params)\n",
    "\n",
    "print('accuracy: ',accuracy_score(y_test[0], y_pred[0]))"
   ]
  },
  {
   "cell_type": "markdown",
   "metadata": {},
   "source": [
    "## Visualise Performance\n",
    "\n",
    "Plotting a visualisation here showing the test points against what the model calculates for different regions on the graph.\n",
    "\n",
    "Note the regions here use `forward_prop`, so the regions take on values between 0 and 1 rather than being in the set (0, 1)."
   ]
  },
  {
   "cell_type": "code",
   "execution_count": 42,
   "metadata": {},
   "outputs": [
    {
     "data": {
      "text/plain": [
       "<matplotlib.collections.PathCollection at 0x2279a1ffbc8>"
      ]
     },
     "execution_count": 42,
     "metadata": {},
     "output_type": "execute_result"
    },
    {
     "data": {
      "image/png": "[encoded data removed]",
      "text/plain": [
       "<Figure size 432x288 with 1 Axes>"
      ]
     },
     "metadata": {
      "needs_background": "light"
     },
     "output_type": "display_data"
    }
   ],
   "source": [
    "# Set min and max values for meshgrid\n",
    "x_min, x_max = X[0, :].min() - 1, X[0, :].max() + 1\n",
    "y_min, y_max = X[1, :].min() - 1, X[1, :].max() + 1\n",
    "\n",
    "# Generate a grid of points with distance h between them\n",
    "h = 0.01\n",
    "xx, yy = np.meshgrid(np.arange(x_min, x_max, h), np.arange(y_min, y_max, h))\n",
    "# Predict the function value for the whole grid using previous params\n",
    "X_mesh = np.c_[xx.ravel(), yy.ravel()].T\n",
    "Z = forward_prop(X_mesh, params)['A2']\n",
    "Z = Z.reshape(xx.shape)\n",
    "\n",
    "# Plot the contour and training examples\n",
    "plt.contourf(xx, yy, Z, cmap=plt.cm.Spectral)\n",
    "plt.ylabel('x2')\n",
    "plt.xlabel('x1')\n",
    "plt.scatter(X_test[0, :], X_test[1, :], c=np.squeeze(y_test), cmap=plt.cm.Spectral)"
   ]
  }
 ],
 "metadata": {
  "kernelspec": {
   "display_name": "stenv",
   "language": "python",
   "name": "stenv"
  },
  "language_info": {
   "codemirror_mode": {
    "name": "ipython",
    "version": 3
   },
   "file_extension": ".py",
   "mimetype": "text/x-python",
   "name": "python",
   "nbconvert_exporter": "python",
   "pygments_lexer": "ipython3",
   "version": "3.7.4"
  }
 },
 "nbformat": 4,
 "nbformat_minor": 4
}
